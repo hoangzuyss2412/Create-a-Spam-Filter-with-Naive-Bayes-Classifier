{
 "cells": [
  {
   "cell_type": "markdown",
   "id": "af450ba7-5cae-4b9c-8236-ddf098b40e5b",
   "metadata": {},
   "source": [
    "## Import some useful libraries"
   ]
  },
  {
   "cell_type": "code",
   "execution_count": 8,
   "id": "0322f8cd-2f88-4f9e-997a-63a87668d509",
   "metadata": {},
   "outputs": [],
   "source": [
    "import numpy as np\n",
    "from sklearn.naive_bayes import MultinomialNB, BernoulliNB\n",
    "from sklearn.metrics import accuracy_score # for evaluating results\n",
    "from scipy.sparse import coo_matrix # for sparse matrix\n",
    "\n",
    "# data path and file name \n",
    "path = 'ex6DataPrepared/'\n",
    "train_data_path = 'train-features.txt'\n",
    "test_data_path = 'test-features.txt'\n",
    "train_label_path = 'train-labels.txt'\n",
    "test_label_path = 'test-labels.txt'"
   ]
  },
  {
   "cell_type": "markdown",
   "id": "c6b69db8-2378-4488-8264-785e10d44d3f",
   "metadata": {},
   "source": [
    "## Extract data"
   ]
  },
  {
   "cell_type": "code",
   "execution_count": 9,
   "id": "eefd7a6d-f756-41bd-8f83-93d3ec88d96f",
   "metadata": {},
   "outputs": [],
   "source": [
    "nwords = 2500 \n",
    "\n",
    "def read_data(data_path, label_path):\n",
    "    ## read label\n",
    "    with open(path + label_path) as f:\n",
    "        content = f.readlines()\n",
    "    label = [int(x.strip()) for x in content]\n",
    "\n",
    "    ## read data\n",
    "    with open(path + data_path) as f:\n",
    "        content = f.readlines()\n",
    "    # remove '\\n' at the end of each line\n",
    "    content = [x.strip() for x in content] \n",
    "\n",
    "    dat = np.zeros((len(content), 3), dtype = int)\n",
    "    \n",
    "    for i, line in enumerate(content): \n",
    "        a = line.split(' ')\n",
    "        dat[i, :] = np.array([int(a[0]), int(a[1]), int(a[2])])\n",
    "    \n",
    "    # remember to -1 at coordinate since we're in Python\n",
    "    # check this: https://docs.scipy.org/doc/scipy/reference/generated/scipy.sparse.coo_matrix.html\n",
    "    # for more information about coo_matrix function \n",
    "    data = coo_matrix((dat[:, 2], (dat[:, 0] - 1, dat[:, 1] - 1)), shape=(len(label), nwords))\n",
    "    return (data, label)"
   ]
  },
  {
   "cell_type": "code",
   "execution_count": 10,
   "id": "5ba42ae0-48aa-4b82-bb2d-47417260daa7",
   "metadata": {},
   "outputs": [],
   "source": [
    "(train_data, train_label)  = read_data(train_data_path, train_label_path)\n",
    "(test_data, test_label)  = read_data(test_data_path, test_label_path)"
   ]
  },
  {
   "cell_type": "markdown",
   "id": "50c7b557-6a7f-4ece-92ee-7ca74fbc74b4",
   "metadata": {},
   "source": [
    "## Multinomial Naive Bayes"
   ]
  },
  {
   "cell_type": "code",
   "execution_count": 25,
   "id": "8922c830-182b-49d3-9121-5671d8359926",
   "metadata": {},
   "outputs": [
    {
     "name": "stdout",
     "output_type": "stream",
     "text": [
      "MultinomialNB test accuracy: 98.08%.\n"
     ]
    }
   ],
   "source": [
    "multiNB_clf = MultinomialNB()\n",
    "multiNB_clf.fit(train_data, train_label)\n",
    "\n",
    "y_pred = multiNB_clf.predict(test_data)\n",
    "multiNB_accuracy = accuracy_score(test_label, y_pred)*100\n",
    "print('MultinomialNB test accuracy: %.2f%%.' %multiNB_accuracy)"
   ]
  },
  {
   "cell_type": "markdown",
   "id": "04ff89ea-703c-428d-9313-8a16510b4a83",
   "metadata": {},
   "source": [
    "## Bernoulli Naive Bayes"
   ]
  },
  {
   "cell_type": "code",
   "execution_count": 36,
   "id": "923c4e34-760d-4524-81e0-06edd25c40f4",
   "metadata": {},
   "outputs": [
    {
     "name": "stdout",
     "output_type": "stream",
     "text": [
      "BernoulliNB test accuracy: 85.38%.\n"
     ]
    }
   ],
   "source": [
    "binNB_clf = BernoulliNB(binarize = 0.5)\n",
    "binNB_clf.fit(train_data, train_label)\n",
    "\n",
    "y_pred = binNB_clf.predict(test_data)\n",
    "binNB_accuracy = accuracy_score(test_label, y_pred)*100\n",
    "print('BernoulliNB test accuracy: %.2f%%.' %binNB_accuracy)"
   ]
  }
 ],
 "metadata": {
  "kernelspec": {
   "display_name": "Python 3 (ipykernel)",
   "language": "python",
   "name": "python3"
  },
  "language_info": {
   "codemirror_mode": {
    "name": "ipython",
    "version": 3
   },
   "file_extension": ".py",
   "mimetype": "text/x-python",
   "name": "python",
   "nbconvert_exporter": "python",
   "pygments_lexer": "ipython3",
   "version": "3.11.3"
  }
 },
 "nbformat": 4,
 "nbformat_minor": 5
}
